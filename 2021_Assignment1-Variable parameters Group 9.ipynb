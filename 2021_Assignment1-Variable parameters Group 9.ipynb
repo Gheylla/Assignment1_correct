{
 "cells": [
  {
   "cell_type": "code",
   "execution_count": null,
   "metadata": {},
   "outputs": [],
   "source": [
    "#Authors:Group 9\n",
    "    #Beiyang Yu (5353653)\n",
    "    #Mazen Alqadi (476578)\n",
    "    #Tianyang Lu (5215277)\n",
    "    #Xilin Yin (5271649)"
   ]
  },
  {
   "cell_type": "code",
   "execution_count": 1,
   "metadata": {},
   "outputs": [],
   "source": [
    "import numpy as np\n",
    "import math\n",
    "import pandas as pd\n",
    "from scipy.integrate import solve_ivp\n",
    "import matplotlib.pyplot as plt\n",
    "import scipy.integrate as spint\n",
    "%matplotlib inline"
   ]
  },
  {
   "cell_type": "code",
   "execution_count": 2,
   "metadata": {},
   "outputs": [],
   "source": [
    "doc1 = pd.read_excel('WieringermeerData_Meteo.xlsx')   # Read the measured data                        "
   ]
  },
  {
   "cell_type": "code",
   "execution_count": 3,
   "metadata": {},
   "outputs": [],
   "source": [
    "Jrf = np.zeros(2757, dtype=float)      \n",
    "E = np.zeros(2757, dtype=float)\n",
    "Jrf[0:2757] = doc1.iloc[3451:6208,1]   \n",
    "E[0:2757] = doc1.iloc[3451:6208,2]\n",
    "# Initialization of J and E matrix"
   ]
  },
  {
   "cell_type": "code",
   "execution_count": 4,
   "metadata": {},
   "outputs": [],
   "source": [
    "acl = 0.007     # 0.005~0.01\n",
    "awb = 0.0008    # 0.0005~0.001\n",
    "Scl_max = 0.60  # 0.45~0.975\n",
    "Swb_max = 7.0   # 4.5~7.8\n",
    "Scl_min = 0     \n",
    "Swb_min = 0\n",
    "beta0 = 0.98    # 0~1\n",
    "Cf = 0.92       # 0~1.4\n",
    "fred = 1.0\n",
    "bcl = 5         # 0~80\n",
    "bwb = 30        # 0~80\n",
    "def dYdt(t, Y):\n",
    "    a = math.ceil(t)\n",
    "    return np.array([Jrf[a-1] - acl * ((Y[0] - Scl_min) / (Scl_max - Scl_min)) ** bcl -  E[a-1] * Cf * fred,\n",
    "                    (1 - beta0 * (Y[0] - Scl_min) / (Scl_max - Scl_min)) * acl * ((Y[0] - Scl_min) / (Scl_max - Scl_min)) ** bcl - awb * ((Y[1] - Swb_min) / (Swb_max - Swb_min)) ** bwb])\n",
    "# Definition of the ODE "
   ]
  },
  {
   "cell_type": "code",
   "execution_count": 5,
   "metadata": {},
   "outputs": [],
   "source": [
    "# Initialisation of tOut and t_span\n",
    "tOut = np.linspace(0, 2757, 2757)    # 6209 points are measured but only 2757 are used\n",
    "nOut = np.shape(tOut)[0]\n",
    "t_span = [tOut[0], tOut[-1]]  "
   ]
  },
  {
   "cell_type": "code",
   "execution_count": 6,
   "metadata": {},
   "outputs": [
    {
     "name": "stderr",
     "output_type": "stream",
     "text": [
      "<ipython-input-4-9784718e390c>:15: RuntimeWarning: overflow encountered in power\n",
      "  (1 - beta0 * (Y[0] - Scl_min) / (Scl_max - Scl_min)) * acl * ((Y[0] - Scl_min) / (Scl_max - Scl_min)) ** bcl - awb * ((Y[1] - Swb_min) / (Swb_max - Swb_min)) ** bwb])\n"
     ]
    }
   ],
   "source": [
    "# Set up the initial value\n",
    "Y0 = np.array([Scl_max / 1.547, Swb_max / 1.035])\n",
    "# Solve ODE\n",
    "res = spint.solve_ivp(dYdt, t_span, Y0, t_eval=tOut, vectorized=True,\n",
    "                      method='RK45', rtol=1e-5)"
   ]
  },
  {
   "cell_type": "code",
   "execution_count": null,
   "metadata": {},
   "outputs": [],
   "source": [
    "t = res['t']\n",
    "Y = res['y']\n",
    "# The solution for ODE"
   ]
  },
  {
   "cell_type": "code",
   "execution_count": null,
   "metadata": {
    "scrolled": true
   },
   "outputs": [],
   "source": [
    "rODE = Y[0,:]\n",
    "fODE = Y[1,:]\n",
    "tOut1 = np.linspace(0, 2757, 2757)\n",
    "\n",
    "# Plot Cover layer storage and Waste body storage over time\n",
    "plt.figure()\n",
    "plt.plot(tOut1, rODE, 'r-', label='Cover layer')\n",
    "plt.plot(tOut1, fODE  , 'b-', label='Waste body')\n",
    "plt.grid()\n",
    "plt.legend(loc='best')\n",
    "plt.xlabel('Time (day)')\n",
    "plt.ylabel('Water storage (m)')\n",
    "# f1.savefig('Cover_layer_and_Waste_body.png')\n",
    "\n",
    "# Plot Cover layer storage VS Waste body storage \n",
    "# plt.figure()\n",
    "# plt.plot(rODE,fODE , 'b-', label='ODE')\n",
    "# plt.grid()\n",
    "# plt.legend(loc='best')\n",
    "# plt.xlabel('Cover layer storage (m)')\n",
    "# plt.ylabel('Waste body storage (m)')"
   ]
  },
  {
   "cell_type": "code",
   "execution_count": null,
   "metadata": {},
   "outputs": [],
   "source": [
    "doc2 = pd.read_excel('WieringermeerData_LeachateProduction.xlsx')   # Read the measured data \n",
    "Q_dr = doc2.iloc[:,1]\n"
   ]
  },
  {
   "cell_type": "code",
   "execution_count": null,
   "metadata": {},
   "outputs": [],
   "source": [
    "tOut = np.linspace(0, 2757, 2757)\n",
    "nOut = np.shape(tOut)[0]\n",
    "Q_cal = np.zeros(2757)\n",
    "Q_rate = np.zeros(2757)\n",
    "E = np.zeros(2757)\n",
    "Q_rate[0] =  0.\n",
    "# Calculate the storage rate from the measured data\n",
    "for i in range (1, nOut-1):\n",
    "    Q_rate[i] = Q_dr[i] - Q_dr[i-1]\n",
    "Q_cal = beta0 * ((rODE - Scl_min) / (Scl_max - Scl_min)) * acl * ((rODE - Scl_min) / (Scl_max - Scl_min)) ** bcl + awb * ((fODE - Swb_min) / (Swb_max - Swb_min)) ** bwb\n",
    "Q_cal = Q_cal * 28355   # Multiply the area\n",
    "print(Q_cal)"
   ]
  },
  {
   "cell_type": "code",
   "execution_count": null,
   "metadata": {},
   "outputs": [],
   "source": [
    "plt.figure()\n",
    "plt.plot(tOut, Q_cal, 'r-', label='Calculated')\n",
    "plt.plot(tOut, Q_rate, 'b-', label='Measured')\n",
    "plt.grid()\n",
    "plt.legend(loc='best')\n",
    "plt.xlabel('Time (day)')\n",
    "plt.ylabel('Leachate production rate (m^3/day)')\n",
    "plt.show()\n",
    "# Plot the calculated and measured leachate production rate over time"
   ]
  },
  {
   "cell_type": "code",
   "execution_count": null,
   "metadata": {},
   "outputs": [],
   "source": [
    "Qcal = np.zeros(2757)\n",
    "Qcal[0] = Q_cal[0]\n",
    "for i in range(1,2757):\n",
    "    Qcal[i] = Qcal[i-1] + Q_cal[i] \n",
    "    \n",
    "print(Qcal)\n",
    "\n",
    "aList = []\n",
    "aList.append(Qcal);\n",
    "# Save the calculated Qcal for variable parameters"
   ]
  },
  {
   "cell_type": "code",
   "execution_count": null,
   "metadata": {},
   "outputs": [],
   "source": [
    "plt.figure()\n",
    "plt.plot(tOut, aList[0], 'k-', label=' bwb=0')\n",
    "plt.plot(tOut, aList[1], 'b-', label=' bwb=16')\n",
    "plt.plot(tOut, aList[2], 'c-', label=' bwb=32')\n",
    "plt.plot(tOut, aList[3], 'g-', label=' bwb=48')\n",
    "plt.plot(tOut, aList[4], 'y-', label=' bwb=64')\n",
    "plt.plot(tOut, aList[5], 'm-', label=' bwb=80')\n",
    "plt.plot(tOut, Q_dr, 'r-', label='Measured')\n",
    "\n",
    "#plt.xlim(1400, 2000)\n",
    "#plt.ylim(60000, 90000)\n",
    "# Zoom in the graph\n",
    "\n",
    "plt.grid()\n",
    "plt.legend(loc='best')\n",
    "plt.xlabel('Time (day)')\n",
    "plt.ylabel('Leachate production (m^3)')\n",
    "plt.savefig(\"filename.png\")\n",
    "plt.show()\n",
    "\n",
    "# Plot the results of variable parameters over time"
   ]
  }
 ],
 "metadata": {
  "kernelspec": {
   "display_name": "Python 3",
   "language": "python",
   "name": "python3"
  },
  "language_info": {
   "codemirror_mode": {
    "name": "ipython",
    "version": 3
   },
   "file_extension": ".py",
   "mimetype": "text/x-python",
   "name": "python",
   "nbconvert_exporter": "python",
   "pygments_lexer": "ipython3",
   "version": "3.8.8"
  }
 },
 "nbformat": 4,
 "nbformat_minor": 4
}
