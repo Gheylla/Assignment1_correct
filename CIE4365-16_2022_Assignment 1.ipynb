{
 "cells": [
  {
   "cell_type": "markdown",
   "id": "0d9d34f8",
   "metadata": {},
   "source": [
    "# # CIE4365-16_Assignment 1\n",
    "Landfill Water Balance broblem"
   ]
  },
  {
   "cell_type": "code",
   "execution_count": null,
   "id": "818b9aeb",
   "metadata": {},
   "outputs": [],
   "source": [
    "##Step 1: Importing necessary Libraries\n",
    "import numpy as np\n",
    "import math\n",
    "import pandas as pd\n",
    "from pandas import read_excel\n",
    "from scipy.integrate import solve_ivp\n",
    "import matplotlib.pyplot as plt\n",
    "import scipy.integrate as spint\n",
    "%matplotlib inline\n"
   ]
  },
  {
   "cell_type": "code",
   "execution_count": null,
   "id": "5718c6ae",
   "metadata": {},
   "outputs": [],
   "source": [
    "#Homemade version of matlab tic and toc functions\n",
    "def tic():\n",
    "    import time\n",
    "    global startTime_for_tictoc\n",
    "    startTime_for_tictoc = time.time()\n",
    "\n",
    "def toc():\n",
    "    import time\n",
    "    if 'startTime_for_tictoc' in globals():\n",
    "        print (\"Elapsed time is \" + str(time.time() - startTime_for_tictoc) + \" seconds.\")\n",
    "    else:\n",
    "        print (\"Toc: start time not set\")\n"
   ]
  },
  {
   "cell_type": "code",
   "execution_count": null,
   "id": "dd8c608a",
   "metadata": {},
   "outputs": [],
   "source": [
    "#Step 2: Read Meteo and measured data\n",
    "#Meto Data\n",
    "meteo_data = pd.read_excel('WieringermeerData_Meteo.xlsx', index_col=0)\n",
    "\n",
    "#Measured Data:\n",
    "meas_data = pd.read_excel('WieringermeerData_LeachateProduction.xlsx', index_col=0)"
   ]
  },
  {
   "cell_type": "code",
   "execution_count": null,
   "id": "cdcb9be4",
   "metadata": {},
   "outputs": [],
   "source": [
    "##Step 3: Match the measured and meto data in term of date and time. \n",
    "    #the same date for leachate (Qdr), Rainfall ((Jrf), and Evaporation (E) \n",
    "    #using loc and iloc function\n",
    "\n",
    "Qdr = meas_data.iloc[:, 0]                   # leachate output in [m^3/day]\n",
    "Jrf = meteo_data.iloc[-(len(Qdr) + 1) : -1, 1]      # Precipitation [m/day]\n",
    "pE = meteo_data.iloc[-(len(Qdr) +1): -1, 2]       # Evaporation  [m/day]"
   ]
  },
  {
   "cell_type": "code",
   "execution_count": null,
   "id": "e53d32bb",
   "metadata": {},
   "outputs": [],
   "source": [
    "##Definition of parameters:\n",
    "    #Cover layer\n",
    "acl = 0.007     # 0.005~0.01 [-]\n",
    "Scl_max = 0.65  # 0.45~0.975 [-]\n",
    "Scl_min = 0.2\n",
    "bcl = 8       # 0~80 [m/d] \n",
    "beta0 = 0.98    # 0~1\n",
    "    #Water Balance\n",
    "awb = 0.0008    # 0.0005~0.001\n",
    "Swb_max = 0.5  # 4.5~7.8     \n",
    "Swb_min = 0\n",
    "Cf = 0.92       # 0~1.4\n",
    "bwb = 7        # 0~80\n",
    "fred = 1.0\n",
    "\n",
    "iniScl = 0.8\n",
    "iniSwb = 0.8"
   ]
  },
  {
   "cell_type": "code",
   "execution_count": null,
   "id": "bc87c7ca",
   "metadata": {},
   "outputs": [],
   "source": [
    "## Step 4: # Definition of Rate Equations\n",
    "\n",
    "def dYdt(t, Y):\n",
    "    \"\"\" Rate of change for storage in cover layer Scl and \n",
    "    for storage in the waste layer Swb. \"\"\"\n",
    "    #a = np.ceil(t)\n",
    "    \n",
    "    # Assign each ODE to a vector element\n",
    "    Scl = Y[0]\n",
    "    Swb = Y[1]\n",
    "    \n",
    "    a = math.ceil(t)\n",
    "    \n",
    "    Lcl_rate = acl * ((Y[0] - Scl_min) / (Scl_max - Scl_min)) ** bcl\n",
    "    \n",
    "    # Evaporation model\n",
    "    E_rate = pE[a-1] * Cf * fred\n",
    "    \n",
    "    # B(t) term that allows a certain fraction of water leaching from the cover layer to directly enter the drainage layer\n",
    "    beta = beta0 * ((Scl - Scl_min) / (Scl_max - Scl_min))\n",
    "    Lwb_rate = awb * (((Swb - Swb_min) / (Swb_max - Swb_min))** bwb)       \n",
    "    \n",
    "    return np.array([Jrf(a-1) - Lcl_rate - E_rate, \n",
    "                     1 - beta * Lcl_rate - Lwb_rate])"
   ]
  },
  {
   "cell_type": "code",
   "execution_count": null,
   "id": "de30f8ed",
   "metadata": {},
   "outputs": [],
   "source": [
    "# dydt = np.zeros(2)\n",
    "#     dydt[0, 1] = np.array([rain[int(t)] - Lcl(t) - E(t), \n",
    "#                      (1 - B(t)) * Lcl(t) - Lwb])\n",
    "#         \"\"\" Rate of change for storage in cover layer Scl and \n",
    "#     for storage in the waste layer Swb. \"\"\"\n",
    "# return dydt"
   ]
  },
  {
   "cell_type": "code",
   "execution_count": null,
   "id": "68c373b6",
   "metadata": {},
   "outputs": [],
   "source": [
    "#Initial values\n",
    "\n",
    "Y0 = np.array([0.8, 0.8])"
   ]
  },
  {
   "cell_type": "code",
   "execution_count": null,
   "id": "17f3d2df",
   "metadata": {
    "scrolled": true
   },
   "outputs": [],
   "source": [
    "# Definition of output times\n",
    "tOut = np.linspace(0 , 2757 , 2757)\n",
    "nOut = np.shape(tOut)[0]\n",
    "\n",
    "# Solution using Built-in Solver\n",
    "tic()\n",
    "\n",
    "t_span = [tOut[0], tOut[-1]]\n",
    "\n",
    "YODE = spint.solve_ivp(dYdt, t_span, Y0, t_eval=tOut, vectorized=True, \n",
    "                       method = 'RK45' , rtol=1e-5)\n",
    "SclODE = YODE.y[0 , :]\n",
    "SwbODE = YODE.y[1 , :]\n",
    "\n",
    "toc()"
   ]
  },
  {
   "cell_type": "code",
   "execution_count": null,
   "id": "95f6b94e",
   "metadata": {},
   "outputs": [],
   "source": [
    "# Plot Cover layer storage and Waste body storage over time\n",
    "plt.figure()\n",
    "plt.plot(tOut, SclODE, 'r-', label='Cover layer')\n",
    "plt.plot(tOut, SwbODE  , 'b-', label='Waste body')\n",
    "plt.grid()\n",
    "plt.legend(loc='best')\n",
    "plt.xlabel('Time (day)')\n",
    "plt.ylabel('Water storage (m)')"
   ]
  },
  {
   "cell_type": "code",
   "execution_count": null,
   "id": "943f5e45",
   "metadata": {},
   "outputs": [],
   "source": [
    "Qdr_simulated = (beta * Lcl_rate + Lwb_rate)*28355\n",
    "tOut = np.linspace(0, 2757, 2757)\n",
    "nOut = np.shape(tOut)[0]\n",
    "Qdr_simulated = np.zeros(2757)\n",
    "Qdr_measured = np.zeros(2757)\n",
    "pE = np.zeros(2757)\n",
    "Qdr_measured[0] =  0.\n",
    "# Calculate the storage rate from the measured data\n",
    "for i in range (1, nOut-1):\n",
    "    Qdr_measured[i] = Qdr_measured[i] - Qdr_measured[i-1]\n",
    "print(Qdr_simulated)"
   ]
  },
  {
   "cell_type": "code",
   "execution_count": null,
   "id": "366cb9cc",
   "metadata": {},
   "outputs": [],
   "source": [
    "plt.figure()\n",
    "plt.plot(tOut, Qdr_simulated, 'r-', label='Calculated')\n",
    "plt.plot(tOut, Qdr_measured, 'b-', label='Measured')\n",
    "plt.grid()\n",
    "plt.legend(loc='best')\n",
    "plt.xlabel('Time (day)')\n",
    "plt.ylabel('Leachate production rate (m^3/day)')\n",
    "plt.show()\n",
    "# Plot the calculated (simulated) and measured leachate production rate over time"
   ]
  }
 ],
 "metadata": {
  "kernelspec": {
   "display_name": "Python 3",
   "language": "python",
   "name": "python3"
  },
  "language_info": {
   "codemirror_mode": {
    "name": "ipython",
    "version": 3
   },
   "file_extension": ".py",
   "mimetype": "text/x-python",
   "name": "python",
   "nbconvert_exporter": "python",
   "pygments_lexer": "ipython3",
   "version": "3.8.8"
  }
 },
 "nbformat": 4,
 "nbformat_minor": 5
}
