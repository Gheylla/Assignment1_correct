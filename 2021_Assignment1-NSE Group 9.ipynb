{
 "cells": [
  {
   "cell_type": "code",
   "execution_count": null,
   "metadata": {},
   "outputs": [],
   "source": [
    "#Authors:Group 9\n",
    "    #Beiyang Yu (5353653)\n",
    "    #Mazen Alqadi (476578)\n",
    "    #Tianyang Lu (5215277)\n",
    "    #Xilin Yin (5271649)"
   ]
  },
  {
   "cell_type": "code",
   "execution_count": 88,
   "metadata": {},
   "outputs": [],
   "source": [
    "import numpy as np\n",
    "import math\n",
    "import pandas as pd\n",
    "from scipy.integrate import solve_ivp\n",
    "import matplotlib.pyplot as plt\n",
    "import scipy.integrate as spint\n",
    "%matplotlib inline"
   ]
  },
  {
   "cell_type": "code",
   "execution_count": 89,
   "metadata": {},
   "outputs": [],
   "source": [
    "def tic():\n",
    "    #Homemade version of matlab tic and toc functions\n",
    "    import time\n",
    "    global startTime_for_tictoc\n",
    "    startTime_for_tictoc = time.time()\n",
    "\n",
    "def toc():\n",
    "    import time\n",
    "    if 'startTime_for_tictoc' in globals():\n",
    "        print (\"Elapsed time is \" + str(time.time() - startTime_for_tictoc) + \" seconds.\")\n",
    "    else:\n",
    "        print (\"Toc: start time not set\")"
   ]
  },
  {
   "cell_type": "code",
   "execution_count": 90,
   "metadata": {},
   "outputs": [
    {
     "name": "stdout",
     "output_type": "stream",
     "text": [
      "Index(['datetime', 'rain_station', 'pEV', 'temp'], dtype='object')\n"
     ]
    }
   ],
   "source": [
    "doc1 = pd.read_csv('WieringermeerData_Meteo.csv')   # Read the measured data\n",
    "print(doc1.keys())"
   ]
  },
  {
   "cell_type": "code",
   "execution_count": 92,
   "metadata": {},
   "outputs": [
    {
     "data": {
      "text/plain": [
       "array([0.    , 0.    , 0.0075, ..., 0.    , 0.    , 0.    ])"
      ]
     },
     "execution_count": 92,
     "metadata": {},
     "output_type": "execute_result"
    }
   ],
   "source": [
    "Jrf = np.zeros(2757, dtype=float)\n",
    "E = np.zeros(2757, dtype=float)\n",
    "Jrf[0:2757] = doc1.iloc[3451:6208,1]\n",
    "E[0:2757] = doc1.iloc[3451:6208,2]\n",
    "# Initialization of J and E matrix\n",
    "\n",
    "Jrf_ = np.zeros(2757, dtype=float)\n",
    "E_ = np.zeros(2757, dtype=float)\n",
    "\n",
    "for i in range (0, 2757):\n",
    "        Jrf_[i] = Jrf[i]\n",
    "        E_[i] = E[i]"
   ]
  },
  {
   "cell_type": "code",
   "execution_count": 93,
   "metadata": {},
   "outputs": [],
   "source": [
    "acl = 0.007     # 0.005~0.01\n",
    "awb = 0.0008    # 0.0005~0.001\n",
    "Scl_max = 0.60  # 0.45~0.975\n",
    "Swb_max = 7.0   # 4.5~7.8\n",
    "Scl_min = 0     \n",
    "Swb_min = 0\n",
    "beta0 = 0.98    # 0~1\n",
    "Cf = 0.92       # 0~1.4\n",
    "fred = 1.0\n",
    "bcl = 5         # 0~80\n",
    "bwb = 30        # 0~80\n",
    "def dYdt(t, Y):\n",
    "    a = math.ceil(t)\n",
    "    return np.array([Jrf[a-1] - acl * ((Y[0] - Scl_min) / (Scl_max - Scl_min)) ** bcl -  E[a-1] * Cf * fred,\n",
    "                    (1 - beta0 * (Y[0] - Scl_min) / (Scl_max - Scl_min)) * acl * ((Y[0] - Scl_min) / (Scl_max - Scl_min)) ** bcl - awb * ((Y[1] - Swb_min) / (Swb_max - Swb_min)) ** bwb])\n",
    "# Definition of the ODE "
   ]
  },
  {
   "cell_type": "code",
   "execution_count": 94,
   "metadata": {},
   "outputs": [
    {
     "data": {
      "text/plain": [
       "2757"
      ]
     },
     "execution_count": 94,
     "metadata": {},
     "output_type": "execute_result"
    }
   ],
   "source": [
    "tOut = np.linspace(0, 2757, 2757)    #6209 points calculated but only 2757 are used\n",
    "nOut = np.shape(tOut)[0]\n",
    "t_span = [tOut[0], tOut[-1]]     \n"
   ]
  },
  {
   "cell_type": "code",
   "execution_count": 96,
   "metadata": {},
   "outputs": [
    {
     "name": "stdout",
     "output_type": "stream",
     "text": [
      "[ 0.          6.09999847 10.79999543 ... 33.70313    38.39844\n",
      " 36.39843   ]\n",
      "23.775951269495827\n"
     ]
    }
   ],
   "source": [
    "doc2 = pd.read_csv('WieringermeerData_LeachateProduction.csv')     #Read the Q datafile\n",
    "Q_dr = doc2.iloc[:,1]\n",
    "\n",
    "Q_cal = np.zeros(2757)     #Initialization of Q_cal\n",
    "Q_rate = np.zeros(2757)    #Initialization of Q_rate for calculating Q_drmean\n",
    "\n",
    "Q_rate[0] =  0.\n",
    "for i in range (1, 2757):\n",
    "    Q_rate[i] = Q_dr[i] - Q_dr[i-1]\n",
    "Q_drmean = np.mean(Q_rate)\n",
    "\n",
    "print(Q_rate)\n",
    "print(Q_drmean)"
   ]
  },
  {
   "cell_type": "code",
   "execution_count": 98,
   "metadata": {},
   "outputs": [
    {
     "name": "stderr",
     "output_type": "stream",
     "text": [
      "C:\\Users\\Yu Beiyang\\Anaconda3\\lib\\site-packages\\ipykernel_launcher.py:15: RuntimeWarning: overflow encountered in power\n",
      "  from ipykernel import kernelapp as app\n"
     ]
    },
    {
     "name": "stdout",
     "output_type": "stream",
     "text": [
      "0.6\n",
      "394195.29513192084\n",
      "1263315.5535246204\n",
      "[0.38784745 0.3845959  0.38137275 ... 0.46189024 0.45981142 0.45762167]\n",
      "0.6879676704429663\n"
     ]
    }
   ],
   "source": [
    "num = 0            # Counter for NSE\n",
    "step= 20           # Step for the variable coefficient\n",
    "#NSE = np.zeros(step, dtype=float)     # Initialization of NSE array\n",
    "NSE_ = 0\n",
    "# Set up the initial value\n",
    "Y0 = np.array([Scl_max / 1.547, Swb_max / 1.035])\n",
    "\n",
    "\n",
    "for j in range(0, step):\n",
    "    \n",
    "    Scl_max = 0.45 + 0.025 * j   # Variable parameters\n",
    "    \n",
    "    res = spint.solve_ivp(dYdt, t_span, Y0, t_eval=tOut, vectorized=True,\n",
    "                          method='RK45', rtol=1e-5)\n",
    "    Y = res['y']\n",
    "    rODE = Y[0,:]\n",
    "    fODE = Y[1,:]\n",
    "        \n",
    "    Q_cal = np.zeros(2757)\n",
    "    Q_cal = beta0 * ((rODE - Scl_min) / (Scl_max - Scl_min)) * acl * ((rODE - Scl_min) / (Scl_max - Scl_min)) ** bcl + awb * ((fODE - Swb_min) / (Swb_max - Swb_min)) ** bwb\n",
    "    Q_cal = Q_cal * 28355    \n",
    "    \n",
    "    divided = 0\n",
    "    denominator = 0    \n",
    "    for T in range(2757):\n",
    "        divided += (Q_rate[T] - Q_cal[T]) ** 2\n",
    "        denominator += (Q_rate[T] - Q_drmean) ** 2\n",
    "    NSE_ = 1 - divided / denominator\n",
    "    NSE[num] = NSE_\n",
    "    NSE_ = 0 \n",
    "    num += 1\n",
    "    # Calculate the NSE of variable parameters\n",
    "    \n",
    "print(Scl_max)\n",
    "print(divided)\n",
    "print(denominator)\n",
    "print(rODE)\n",
    "print(NSE_)"
   ]
  },
  {
   "cell_type": "code",
   "execution_count": 84,
   "metadata": {},
   "outputs": [
    {
     "data": {
      "text/plain": [
       "Text(0, 0.5, 'NSE')"
      ]
     },
     "execution_count": 84,
     "metadata": {},
     "output_type": "execute_result"
    },
    {
     "data": {
      "image/png": "[encoded data removed]",
      "text/plain": [
       "<Figure size 432x288 with 1 Axes>"
      ]
     },
     "metadata": {
      "needs_background": "light"
     },
     "output_type": "display_data"
    }
   ],
   "source": [
    "Scl_max = np.linspace(0.45, 0.925,step)\n",
    "\n",
    "plt.figure()\n",
    "plt.plot(Scl_max, NSE, 'b-', label='Nash')\n",
    "plt.grid()\n",
    "plt.legend(loc='best')\n",
    "plt.xlabel('Scl_max')\n",
    "plt.ylabel('NSE')\n",
    "# Plot the NSE over variable parameters"
   ]
  },
  {
   "cell_type": "code",
   "execution_count": 85,
   "metadata": {},
   "outputs": [
    {
     "data": {
      "image/png": "[encoded data removed]",
      "text/plain": [
       "<Figure size 432x288 with 1 Axes>"
      ]
     },
     "metadata": {
      "needs_background": "light"
     },
     "output_type": "display_data"
    }
   ],
   "source": [
    "plt.figure()\n",
    "plt.plot(tOut, Q_cal, 'r-', label='Calculated')\n",
    "plt.plot(tOut, Q_rate, 'b-', label='Measured')\n",
    "plt.grid()\n",
    "plt.legend(loc='best')\n",
    "plt.xlabel('Time (year)')\n",
    "plt.ylabel('Leachate production rate (m^3/day)')\n",
    "plt.show()"
   ]
  },
  {
   "cell_type": "code",
   "execution_count": null,
   "metadata": {
    "scrolled": true
   },
   "outputs": [],
   "source": []
  },
  {
   "cell_type": "code",
   "execution_count": null,
   "metadata": {},
   "outputs": [],
   "source": []
  },
  {
   "cell_type": "code",
   "execution_count": null,
   "metadata": {},
   "outputs": [],
   "source": []
  },
  {
   "cell_type": "code",
   "execution_count": null,
   "metadata": {},
   "outputs": [],
   "source": []
  },
  {
   "cell_type": "code",
   "execution_count": null,
   "metadata": {},
   "outputs": [],
   "source": []
  },
  {
   "cell_type": "code",
   "execution_count": null,
   "metadata": {},
   "outputs": [],
   "source": []
  },
  {
   "cell_type": "code",
   "execution_count": null,
   "metadata": {},
   "outputs": [],
   "source": []
  },
  {
   "cell_type": "code",
   "execution_count": null,
   "metadata": {},
   "outputs": [],
   "source": []
  }
 ],
 "metadata": {
  "kernelspec": {
   "display_name": "Python 3",
   "language": "python",
   "name": "python3"
  },
  "language_info": {
   "codemirror_mode": {
    "name": "ipython",
    "version": 3
   },
   "file_extension": ".py",
   "mimetype": "text/x-python",
   "name": "python",
   "nbconvert_exporter": "python",
   "pygments_lexer": "ipython3",
   "version": "3.8.8"
  }
 },
 "nbformat": 4,
 "nbformat_minor": 4
}
